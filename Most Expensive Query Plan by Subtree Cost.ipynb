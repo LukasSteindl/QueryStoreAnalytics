{
 "cells": [
  {
   "cell_type": "code",
   "execution_count": 1,
   "metadata": {},
   "outputs": [],
   "source": [
    "import pyarrow.parquet as pq;\n",
    "import pandas as pd\n",
    "import matplotlib.pyplot as plt\n"
   ]
  },
  {
   "cell_type": "code",
   "execution_count": 2,
   "metadata": {},
   "outputs": [],
   "source": [
    "df = pd.read_parquet('querystore-featurized.gzip')\n"
   ]
  },
  {
   "cell_type": "code",
   "execution_count": 3,
   "metadata": {},
   "outputs": [],
   "source": [
    "\n",
    "memory_intensive_queries = df.loc[df['query_sql_text'].str.contains('DELETE TOP')==True].query_sql_text\n"
   ]
  },
  {
   "cell_type": "code",
   "execution_count": 4,
   "metadata": {},
   "outputs": [
    {
     "data": {
      "text/plain": [
       "[]"
      ]
     },
     "execution_count": 4,
     "metadata": {},
     "output_type": "execute_result"
    }
   ],
   "source": [
    "list(memory_intensive_queries[0:1])"
   ]
  },
  {
   "cell_type": "code",
   "execution_count": 12,
   "metadata": {},
   "outputs": [
    {
     "name": "stderr",
     "output_type": "stream",
     "text": [
      "C:\\Users\\lukast\\AppData\\Local\\Continuum\\anaconda3\\lib\\site-packages\\ipykernel_launcher.py:1: UserWarning: This pattern has match groups. To actually get the groups, use str.extract.\n",
      "  \"\"\"Entry point for launching an IPython kernel.\n"
     ]
    },
    {
     "data": {
      "text/html": [
       "<div>\n",
       "<style scoped>\n",
       "    .dataframe tbody tr th:only-of-type {\n",
       "        vertical-align: middle;\n",
       "    }\n",
       "\n",
       "    .dataframe tbody tr th {\n",
       "        vertical-align: top;\n",
       "    }\n",
       "\n",
       "    .dataframe thead th {\n",
       "        text-align: right;\n",
       "    }\n",
       "</style>\n",
       "<table border=\"1\" class=\"dataframe\">\n",
       "  <thead>\n",
       "    <tr style=\"text-align: right;\">\n",
       "      <th></th>\n",
       "      <th>runtime_stats_id</th>\n",
       "      <th>plan_id</th>\n",
       "      <th>runtime_stats_interval_id</th>\n",
       "      <th>execution_type</th>\n",
       "      <th>execution_type_desc</th>\n",
       "      <th>first_execution_time</th>\n",
       "      <th>last_execution_time</th>\n",
       "      <th>count_executions</th>\n",
       "      <th>avg_duration</th>\n",
       "      <th>last_duration</th>\n",
       "      <th>...</th>\n",
       "      <th>max_compile_memory_kb</th>\n",
       "      <th>object_id</th>\n",
       "      <th>query_parameterization_type</th>\n",
       "      <th>query_parameterization_type_desc</th>\n",
       "      <th>query_sql_text</th>\n",
       "      <th>has_restricted_text</th>\n",
       "      <th>is_part_of_encrypted_module</th>\n",
       "      <th>EndOfLineMarker</th>\n",
       "      <th>QueryplanSize</th>\n",
       "      <th>EstimatedTotalSubtreeCost</th>\n",
       "    </tr>\n",
       "  </thead>\n",
       "  <tbody>\n",
       "  </tbody>\n",
       "</table>\n",
       "<p>0 rows × 107 columns</p>\n",
       "</div>"
      ],
      "text/plain": [
       "Empty DataFrame\n",
       "Columns: [runtime_stats_id, plan_id, runtime_stats_interval_id, execution_type, execution_type_desc, first_execution_time, last_execution_time, count_executions, avg_duration, last_duration, min_duration, max_duration, stdev_duration, avg_cpu_time, last_cpu_time, min_cpu_time, max_cpu_time, stdev_cpu_time, avg_logical_io_reads, last_logical_io_reads, min_logical_io_reads, max_logical_io_reads, stdev_logical_io_reads, avg_logical_io_writes, last_logical_io_writes, min_logical_io_writes, max_logical_io_writes, stdev_logical_io_writes, avg_physical_io_reads, last_physical_io_reads, min_physical_io_reads, max_physical_io_reads, stdev_physical_io_reads, avg_clr_time, last_clr_time, min_clr_time, max_clr_time, stdev_clr_time, avg_dop, last_dop, min_dop, max_dop, stdev_dop, avg_query_max_used_memory, last_query_max_used_memory, min_query_max_used_memory, max_query_max_used_memory, stdev_query_max_used_memory, avg_rowcount, last_rowcount, min_rowcount, max_rowcount, stdev_rowcount, avg_compile_duration, compatibility_level, count_compiles, engine_version, force_failure_count, initial_plan_compile_start_time, is_forced_plan, is_natively_compiled, is_online_index_plan, is_parallel_plan, is_trivial_plan, last_compile_duration, last_compile_start_time, plan_last_execution_time, last_force_failure_reason, last_force_failure_reason_desc, plan_group_id, query_plan, query_plan_hash, start_time, end_time, avg_bind_cpu_time, avg_bind_duration, avg_query_compiles, avg_compile_memory_kb, avg_optimize_cpu_time, avg_optimize_duration, batch_sql_handle, context_settings_id, count_query_compiles, initial_compile_start_time, is_clouddb_internal_query, is_internal_query, last_bind_cpu_time, last_bind_duration, last_compile_batch_offset_end, last_compile_batch_offset_start, last_compile_batch_sql_handle, last_query_compile_duration, last_compile_memory_kb, last_query_compile_start_time, last_query_execution_time, last_optimize_cpu_time, last_optimize_duration, max_compile_memory_kb, object_id, query_parameterization_type, ...]\n",
       "Index: []\n",
       "\n",
       "[0 rows x 107 columns]"
      ]
     },
     "execution_count": 12,
     "metadata": {},
     "output_type": "execute_result"
    }
   ],
   "source": [
    "df[df['query_sql_text'].str.contains(\"DELETE TOP (100000)\")]"
   ]
  },
  {
   "cell_type": "code",
   "execution_count": 13,
   "metadata": {},
   "outputs": [
    {
     "name": "stderr",
     "output_type": "stream",
     "text": [
      "C:\\Users\\lukast\\AppData\\Local\\Continuum\\anaconda3\\lib\\site-packages\\ipykernel_launcher.py:1: UserWarning: This pattern has match groups. To actually get the groups, use str.extract.\n",
      "  \"\"\"Entry point for launching an IPython kernel.\n"
     ]
    }
   ],
   "source": [
    "x = df[df['query_sql_text'].astype(str).str.contains(\"DELETE TOP (100000)\") == True]"
   ]
  },
  {
   "cell_type": "code",
   "execution_count": 14,
   "metadata": {},
   "outputs": [
    {
     "data": {
      "text/plain": [
       "[]"
      ]
     },
     "execution_count": 14,
     "metadata": {},
     "output_type": "execute_result"
    }
   ],
   "source": [
    "list(df.filter(like='DELETE TOP (100000)'))"
   ]
  },
  {
   "cell_type": "code",
   "execution_count": 15,
   "metadata": {},
   "outputs": [
    {
     "ename": "IndexingError",
     "evalue": "Unalignable boolean Series provided as indexer (index of the boolean Series and of the indexed object do not match",
     "output_type": "error",
     "traceback": [
      "\u001b[1;31m---------------------------------------------------------------------------\u001b[0m",
      "\u001b[1;31mIndexingError\u001b[0m                             Traceback (most recent call last)",
      "\u001b[1;32m<ipython-input-15-ef0307a1c950>\u001b[0m in \u001b[0;36m<module>\u001b[1;34m()\u001b[0m\n\u001b[1;32m----> 1\u001b[1;33m \u001b[0mlist\u001b[0m\u001b[1;33m(\u001b[0m\u001b[0mdf\u001b[0m\u001b[1;33m.\u001b[0m\u001b[0mloc\u001b[0m\u001b[1;33m[\u001b[0m\u001b[1;33m:\u001b[0m\u001b[1;33m,\u001b[0m \u001b[0mdf\u001b[0m\u001b[1;33m.\u001b[0m\u001b[0mquery_sql_text\u001b[0m\u001b[1;33m.\u001b[0m\u001b[0mstr\u001b[0m\u001b[1;33m.\u001b[0m\u001b[0mcontains\u001b[0m\u001b[1;33m(\u001b[0m\u001b[1;34m'DELETE TOP'\u001b[0m\u001b[1;33m)\u001b[0m\u001b[1;33m]\u001b[0m\u001b[1;33m)\u001b[0m\u001b[1;33m\u001b[0m\u001b[0m\n\u001b[0m",
      "\u001b[1;32m~\\AppData\\Local\\Continuum\\anaconda3\\lib\\site-packages\\pandas\\core\\indexing.py\u001b[0m in \u001b[0;36m__getitem__\u001b[1;34m(self, key)\u001b[0m\n\u001b[0;32m   1470\u001b[0m             \u001b[1;32mexcept\u001b[0m \u001b[1;33m(\u001b[0m\u001b[0mKeyError\u001b[0m\u001b[1;33m,\u001b[0m \u001b[0mIndexError\u001b[0m\u001b[1;33m)\u001b[0m\u001b[1;33m:\u001b[0m\u001b[1;33m\u001b[0m\u001b[0m\n\u001b[0;32m   1471\u001b[0m                 \u001b[1;32mpass\u001b[0m\u001b[1;33m\u001b[0m\u001b[0m\n\u001b[1;32m-> 1472\u001b[1;33m             \u001b[1;32mreturn\u001b[0m \u001b[0mself\u001b[0m\u001b[1;33m.\u001b[0m\u001b[0m_getitem_tuple\u001b[0m\u001b[1;33m(\u001b[0m\u001b[0mkey\u001b[0m\u001b[1;33m)\u001b[0m\u001b[1;33m\u001b[0m\u001b[0m\n\u001b[0m\u001b[0;32m   1473\u001b[0m         \u001b[1;32melse\u001b[0m\u001b[1;33m:\u001b[0m\u001b[1;33m\u001b[0m\u001b[0m\n\u001b[0;32m   1474\u001b[0m             \u001b[1;31m# we by definition only have the 0th axis\u001b[0m\u001b[1;33m\u001b[0m\u001b[1;33m\u001b[0m\u001b[0m\n",
      "\u001b[1;32m~\\AppData\\Local\\Continuum\\anaconda3\\lib\\site-packages\\pandas\\core\\indexing.py\u001b[0m in \u001b[0;36m_getitem_tuple\u001b[1;34m(self, tup)\u001b[0m\n\u001b[0;32m    888\u001b[0m                 \u001b[1;32mcontinue\u001b[0m\u001b[1;33m\u001b[0m\u001b[0m\n\u001b[0;32m    889\u001b[0m \u001b[1;33m\u001b[0m\u001b[0m\n\u001b[1;32m--> 890\u001b[1;33m             \u001b[0mretval\u001b[0m \u001b[1;33m=\u001b[0m \u001b[0mgetattr\u001b[0m\u001b[1;33m(\u001b[0m\u001b[0mretval\u001b[0m\u001b[1;33m,\u001b[0m \u001b[0mself\u001b[0m\u001b[1;33m.\u001b[0m\u001b[0mname\u001b[0m\u001b[1;33m)\u001b[0m\u001b[1;33m.\u001b[0m\u001b[0m_getitem_axis\u001b[0m\u001b[1;33m(\u001b[0m\u001b[0mkey\u001b[0m\u001b[1;33m,\u001b[0m \u001b[0maxis\u001b[0m\u001b[1;33m=\u001b[0m\u001b[0mi\u001b[0m\u001b[1;33m)\u001b[0m\u001b[1;33m\u001b[0m\u001b[0m\n\u001b[0m\u001b[0;32m    891\u001b[0m \u001b[1;33m\u001b[0m\u001b[0m\n\u001b[0;32m    892\u001b[0m         \u001b[1;32mreturn\u001b[0m \u001b[0mretval\u001b[0m\u001b[1;33m\u001b[0m\u001b[0m\n",
      "\u001b[1;32m~\\AppData\\Local\\Continuum\\anaconda3\\lib\\site-packages\\pandas\\core\\indexing.py\u001b[0m in \u001b[0;36m_getitem_axis\u001b[1;34m(self, key, axis)\u001b[0m\n\u001b[0;32m   1866\u001b[0m             \u001b[1;32mreturn\u001b[0m \u001b[0mself\u001b[0m\u001b[1;33m.\u001b[0m\u001b[0m_get_slice_axis\u001b[0m\u001b[1;33m(\u001b[0m\u001b[0mkey\u001b[0m\u001b[1;33m,\u001b[0m \u001b[0maxis\u001b[0m\u001b[1;33m=\u001b[0m\u001b[0maxis\u001b[0m\u001b[1;33m)\u001b[0m\u001b[1;33m\u001b[0m\u001b[0m\n\u001b[0;32m   1867\u001b[0m         \u001b[1;32melif\u001b[0m \u001b[0mcom\u001b[0m\u001b[1;33m.\u001b[0m\u001b[0mis_bool_indexer\u001b[0m\u001b[1;33m(\u001b[0m\u001b[0mkey\u001b[0m\u001b[1;33m)\u001b[0m\u001b[1;33m:\u001b[0m\u001b[1;33m\u001b[0m\u001b[0m\n\u001b[1;32m-> 1868\u001b[1;33m             \u001b[1;32mreturn\u001b[0m \u001b[0mself\u001b[0m\u001b[1;33m.\u001b[0m\u001b[0m_getbool_axis\u001b[0m\u001b[1;33m(\u001b[0m\u001b[0mkey\u001b[0m\u001b[1;33m,\u001b[0m \u001b[0maxis\u001b[0m\u001b[1;33m=\u001b[0m\u001b[0maxis\u001b[0m\u001b[1;33m)\u001b[0m\u001b[1;33m\u001b[0m\u001b[0m\n\u001b[0m\u001b[0;32m   1869\u001b[0m         \u001b[1;32melif\u001b[0m \u001b[0mis_list_like_indexer\u001b[0m\u001b[1;33m(\u001b[0m\u001b[0mkey\u001b[0m\u001b[1;33m)\u001b[0m\u001b[1;33m:\u001b[0m\u001b[1;33m\u001b[0m\u001b[0m\n\u001b[0;32m   1870\u001b[0m \u001b[1;33m\u001b[0m\u001b[0m\n",
      "\u001b[1;32m~\\AppData\\Local\\Continuum\\anaconda3\\lib\\site-packages\\pandas\\core\\indexing.py\u001b[0m in \u001b[0;36m_getbool_axis\u001b[1;34m(self, key, axis)\u001b[0m\n\u001b[0;32m   1491\u001b[0m             \u001b[0maxis\u001b[0m \u001b[1;33m=\u001b[0m \u001b[0mself\u001b[0m\u001b[1;33m.\u001b[0m\u001b[0maxis\u001b[0m \u001b[1;32mor\u001b[0m \u001b[1;36m0\u001b[0m\u001b[1;33m\u001b[0m\u001b[0m\n\u001b[0;32m   1492\u001b[0m         \u001b[0mlabels\u001b[0m \u001b[1;33m=\u001b[0m \u001b[0mself\u001b[0m\u001b[1;33m.\u001b[0m\u001b[0mobj\u001b[0m\u001b[1;33m.\u001b[0m\u001b[0m_get_axis\u001b[0m\u001b[1;33m(\u001b[0m\u001b[0maxis\u001b[0m\u001b[1;33m)\u001b[0m\u001b[1;33m\u001b[0m\u001b[0m\n\u001b[1;32m-> 1493\u001b[1;33m         \u001b[0mkey\u001b[0m \u001b[1;33m=\u001b[0m \u001b[0mcheck_bool_indexer\u001b[0m\u001b[1;33m(\u001b[0m\u001b[0mlabels\u001b[0m\u001b[1;33m,\u001b[0m \u001b[0mkey\u001b[0m\u001b[1;33m)\u001b[0m\u001b[1;33m\u001b[0m\u001b[0m\n\u001b[0m\u001b[0;32m   1494\u001b[0m         \u001b[0minds\u001b[0m\u001b[1;33m,\u001b[0m \u001b[1;33m=\u001b[0m \u001b[0mkey\u001b[0m\u001b[1;33m.\u001b[0m\u001b[0mnonzero\u001b[0m\u001b[1;33m(\u001b[0m\u001b[1;33m)\u001b[0m\u001b[1;33m\u001b[0m\u001b[0m\n\u001b[0;32m   1495\u001b[0m         \u001b[1;32mtry\u001b[0m\u001b[1;33m:\u001b[0m\u001b[1;33m\u001b[0m\u001b[0m\n",
      "\u001b[1;32m~\\AppData\\Local\\Continuum\\anaconda3\\lib\\site-packages\\pandas\\core\\indexing.py\u001b[0m in \u001b[0;36mcheck_bool_indexer\u001b[1;34m(ax, key)\u001b[0m\n\u001b[0;32m   2354\u001b[0m         \u001b[0mmask\u001b[0m \u001b[1;33m=\u001b[0m \u001b[0misna\u001b[0m\u001b[1;33m(\u001b[0m\u001b[0mresult\u001b[0m\u001b[1;33m.\u001b[0m\u001b[0m_values\u001b[0m\u001b[1;33m)\u001b[0m\u001b[1;33m\u001b[0m\u001b[0m\n\u001b[0;32m   2355\u001b[0m         \u001b[1;32mif\u001b[0m \u001b[0mmask\u001b[0m\u001b[1;33m.\u001b[0m\u001b[0many\u001b[0m\u001b[1;33m(\u001b[0m\u001b[1;33m)\u001b[0m\u001b[1;33m:\u001b[0m\u001b[1;33m\u001b[0m\u001b[0m\n\u001b[1;32m-> 2356\u001b[1;33m             raise IndexingError('Unalignable boolean Series provided as '\n\u001b[0m\u001b[0;32m   2357\u001b[0m                                 \u001b[1;34m'indexer (index of the boolean Series and of '\u001b[0m\u001b[1;33m\u001b[0m\u001b[0m\n\u001b[0;32m   2358\u001b[0m                                 'the indexed object do not match')\n",
      "\u001b[1;31mIndexingError\u001b[0m: Unalignable boolean Series provided as indexer (index of the boolean Series and of the indexed object do not match"
     ]
    }
   ],
   "source": [
    "list(df.loc[:, df.query_sql_text.str.contains('DELETE TOP')])"
   ]
  },
  {
   "cell_type": "code",
   "execution_count": 10,
   "metadata": {},
   "outputs": [
    {
     "data": {
      "text/plain": [
       "[]"
      ]
     },
     "execution_count": 10,
     "metadata": {},
     "output_type": "execute_result"
    }
   ],
   "source": [
    "list(df.loc[df['query_sql_text'] == 3097.430000].query_sql_text)"
   ]
  },
  {
   "cell_type": "code",
   "execution_count": 11,
   "metadata": {},
   "outputs": [
    {
     "data": {
      "text/plain": [
       "count    571.000000\n",
       "mean      -0.564552\n",
       "std        0.812782\n",
       "min       -1.000000\n",
       "25%       -1.000000\n",
       "50%       -1.000000\n",
       "75%        0.009929\n",
       "max        3.400770\n",
       "Name: EstimatedTotalSubtreeCost, dtype: float64"
      ]
     },
     "execution_count": 11,
     "metadata": {},
     "output_type": "execute_result"
    }
   ],
   "source": [
    "df['EstimatedTotalSubtreeCost'].describe()"
   ]
  },
  {
   "cell_type": "code",
   "execution_count": 18,
   "metadata": {},
   "outputs": [
    {
     "data": {
      "text/plain": [
       "[\"SELECT TOP (150002) [c21]FROM (SELECT [t0].[TaxAmt] AS [c21],[t1].[Color] AS [c39],[t0].[TaxAmt] AS [o0]FROM ((select [$Table].[ProductKey] as [ProductKey],    [$Table].[OrderDateKey] as [OrderDateKey],    [$Table].[DueDateKey] as [DueDateKey],    [$Table].[ShipDateKey] as [ShipDateKey],    [$Table].[ResellerKey] as [ResellerKey],    [$Table].[EmployeeKey] as [EmployeeKey],    [$Table].[PromotionKey] as [PromotionKey],    [$Table].[CurrencyKey] as [CurrencyKey],    [$Table].[SalesTerritoryKey] as [SalesTerritoryKey],    [$Table].[SalesOrderNumber] as [SalesOrderNumber],    [$Table].[SalesOrderLineNumber] as [SalesOrderLineNumber],    [$Table].[RevisionNumber] as [RevisionNumber],    [$Table].[OrderQuantity] as [OrderQuantity],    [$Table].[UnitPrice] as [UnitPrice],    [$Table].[ExtendedAmount] as [ExtendedAmount],    [$Table].[UnitPriceDiscountPct] as [UnitPriceDiscountPct],    [$Table].[DiscountAmount] as [DiscountAmount],    [$Table].[ProductStandardCost] as [ProductStandardCost],    [$Table].[TotalProductCost] as [TotalProductCost],    [$Table].[SalesAmount] as [SalesAmount],    [$Table].[TaxAmt] as [TaxAmt],    [$Table].[Freight] as [Freight],    [$Table].[CarrierTrackingNumber] as [CarrierTrackingNumber],    [$Table].[CustomerPONumber] as [CustomerPONumber],    [$Table].[OrderDate] as [OrderDate],    [$Table].[DueDate] as [DueDate],    [$Table].[ShipDate] as [ShipDate]from [dbo].[FactResellerSales] as [$Table]) AS [t0] left outer join (select [$Table].[ProductKey] as [ProductKey],    [$Table].[ProductAlternateKey] as [ProductAlternateKey],    [$Table].[ProductSubcategoryKey] as [ProductSubcategoryKey],    [$Table].[WeightUnitMeasureCode] as [WeightUnitMeasureCode],    [$Table].[SizeUnitMeasureCode] as [SizeUnitMeasureCode],    [$Table].[EnglishProductName] as [EnglishProductName],    [$Table].[SpanishProductName] as [SpanishProductName],    [$Table].[FrenchProductName] as [FrenchProductName],    [$Table].[StandardCost] as [StandardCost],    [$Table].[FinishedGoodsFlag] as [FinishedGoodsFlag],    [$Table].[Color] as [Color],    [$Table].[SafetyStockLevel] as [SafetyStockLevel],    [$Table].[ReorderPoint] as [ReorderPoint],    [$Table].[ListPrice] as [ListPrice],    [$Table].[Size] as [Size],    [$Table].[SizeRange] as [SizeRange],    [$Table].[Weight] as [Weight],    [$Table].[DaysToManufacture] as [DaysToManufacture],    [$Table].[ProductLine] as [ProductLine],    [$Table].[DealerPrice] as [DealerPrice],    [$Table].[Class] as [Class],    [$Table].[Style] as [Style],    [$Table].[ModelName] as [ModelName],    [$Table].[LargePhoto] as [LargePhoto],    [$Table].[EnglishDescription] as [EnglishDescription],    [$Table].[FrenchDescription] as [FrenchDescription],    [$Table].[ChineseDescription] as [ChineseDescription],    [$Table].[ArabicDescription] as [ArabicDescription],    [$Table].[HebrewDescription] as [HebrewDescription],    [$Table].[ThaiDescription] as [ThaiDescription],    [$Table].[GermanDescription] as [GermanDescription],    [$Table].[JapaneseDescription] as [JapaneseDescription],    [$Table].[TurkishDescription] as [TurkishDescription],    [$Table].[StartDate] as [StartDate],    [$Table].[EndDate] as [EndDate],    [$Table].[Status] as [Status]from [dbo].[DimProduct] as [$Table]) AS [t1] on ([t0].[ProductKey] = [t1].[ProductKey]))) AS [t0]WHERE ([c39] = N'NA')GROUP BY [c21],[o0]ORDER BY COALESCE([o0], 0)ASC, (CASE WHEN [o0] IS NULL THEN 0 ELSE 1 END)ASC\",\n",
       " \"SELECT TOP (150002) [c21]FROM (SELECT [t0].[TaxAmt] AS [c21],[t1].[Color] AS [c39],[t0].[TaxAmt] AS [o0]FROM ((select [$Table].[ProductKey] as [ProductKey],    [$Table].[OrderDateKey] as [OrderDateKey],    [$Table].[DueDateKey] as [DueDateKey],    [$Table].[ShipDateKey] as [ShipDateKey],    [$Table].[ResellerKey] as [ResellerKey],    [$Table].[EmployeeKey] as [EmployeeKey],    [$Table].[PromotionKey] as [PromotionKey],    [$Table].[CurrencyKey] as [CurrencyKey],    [$Table].[SalesTerritoryKey] as [SalesTerritoryKey],    [$Table].[SalesOrderNumber] as [SalesOrderNumber],    [$Table].[SalesOrderLineNumber] as [SalesOrderLineNumber],    [$Table].[RevisionNumber] as [RevisionNumber],    [$Table].[OrderQuantity] as [OrderQuantity],    [$Table].[UnitPrice] as [UnitPrice],    [$Table].[ExtendedAmount] as [ExtendedAmount],    [$Table].[UnitPriceDiscountPct] as [UnitPriceDiscountPct],    [$Table].[DiscountAmount] as [DiscountAmount],    [$Table].[ProductStandardCost] as [ProductStandardCost],    [$Table].[TotalProductCost] as [TotalProductCost],    [$Table].[SalesAmount] as [SalesAmount],    [$Table].[TaxAmt] as [TaxAmt],    [$Table].[Freight] as [Freight],    [$Table].[CarrierTrackingNumber] as [CarrierTrackingNumber],    [$Table].[CustomerPONumber] as [CustomerPONumber],    [$Table].[OrderDate] as [OrderDate],    [$Table].[DueDate] as [DueDate],    [$Table].[ShipDate] as [ShipDate]from [dbo].[FactResellerSales] as [$Table]) AS [t0] left outer join (select [$Table].[ProductKey] as [ProductKey],    [$Table].[ProductAlternateKey] as [ProductAlternateKey],    [$Table].[ProductSubcategoryKey] as [ProductSubcategoryKey],    [$Table].[WeightUnitMeasureCode] as [WeightUnitMeasureCode],    [$Table].[SizeUnitMeasureCode] as [SizeUnitMeasureCode],    [$Table].[EnglishProductName] as [EnglishProductName],    [$Table].[SpanishProductName] as [SpanishProductName],    [$Table].[FrenchProductName] as [FrenchProductName],    [$Table].[StandardCost] as [StandardCost],    [$Table].[FinishedGoodsFlag] as [FinishedGoodsFlag],    [$Table].[Color] as [Color],    [$Table].[SafetyStockLevel] as [SafetyStockLevel],    [$Table].[ReorderPoint] as [ReorderPoint],    [$Table].[ListPrice] as [ListPrice],    [$Table].[Size] as [Size],    [$Table].[SizeRange] as [SizeRange],    [$Table].[Weight] as [Weight],    [$Table].[DaysToManufacture] as [DaysToManufacture],    [$Table].[ProductLine] as [ProductLine],    [$Table].[DealerPrice] as [DealerPrice],    [$Table].[Class] as [Class],    [$Table].[Style] as [Style],    [$Table].[ModelName] as [ModelName],    [$Table].[LargePhoto] as [LargePhoto],    [$Table].[EnglishDescription] as [EnglishDescription],    [$Table].[FrenchDescription] as [FrenchDescription],    [$Table].[ChineseDescription] as [ChineseDescription],    [$Table].[ArabicDescription] as [ArabicDescription],    [$Table].[HebrewDescription] as [HebrewDescription],    [$Table].[ThaiDescription] as [ThaiDescription],    [$Table].[GermanDescription] as [GermanDescription],    [$Table].[JapaneseDescription] as [JapaneseDescription],    [$Table].[TurkishDescription] as [TurkishDescription],    [$Table].[StartDate] as [StartDate],    [$Table].[EndDate] as [EndDate],    [$Table].[Status] as [Status]from [dbo].[DimProduct] as [$Table]) AS [t1] on ([t0].[ProductKey] = [t1].[ProductKey]))) AS [t0]WHERE ([c39] = N'Silver')GROUP BY [c21],[o0]ORDER BY COALESCE([o0], 0)ASC, (CASE WHEN [o0] IS NULL THEN 0 ELSE 1 END)ASC\",\n",
       " 'SELECT TOP (1000001) [t3].[Color],SUM([t2].[Freight]) AS [a0]FROM ((select [$Table].[ProductKey] as [ProductKey],    [$Table].[OrderDateKey] as [OrderDateKey],    [$Table].[DueDateKey] as [DueDateKey],    [$Table].[ShipDateKey] as [ShipDateKey],    [$Table].[ResellerKey] as [ResellerKey],    [$Table].[EmployeeKey] as [EmployeeKey],    [$Table].[PromotionKey] as [PromotionKey],    [$Table].[CurrencyKey] as [CurrencyKey],    [$Table].[SalesTerritoryKey] as [SalesTerritoryKey],    [$Table].[SalesOrderNumber] as [SalesOrderNumber],    [$Table].[SalesOrderLineNumber] as [SalesOrderLineNumber],    [$Table].[RevisionNumber] as [RevisionNumber],    [$Table].[OrderQuantity] as [OrderQuantity],    [$Table].[UnitPrice] as [UnitPrice],    [$Table].[ExtendedAmount] as [ExtendedAmount],    [$Table].[UnitPriceDiscountPct] as [UnitPriceDiscountPct],    [$Table].[DiscountAmount] as [DiscountAmount],    [$Table].[ProductStandardCost] as [ProductStandardCost],    [$Table].[TotalProductCost] as [TotalProductCost],    [$Table].[SalesAmount] as [SalesAmount],    [$Table].[TaxAmt] as [TaxAmt],    [$Table].[Freight] as [Freight],    [$Table].[CarrierTrackingNumber] as [CarrierTrackingNumber],    [$Table].[CustomerPONumber] as [CustomerPONumber],    [$Table].[OrderDate] as [OrderDate],    [$Table].[DueDate] as [DueDate],    [$Table].[ShipDate] as [ShipDate]from [dbo].[FactResellerSales] as [$Table]) AS [t2] left outer join (select [$Table].[ProductKey] as [ProductKey],    [$Table].[ProductAlternateKey] as [ProductAlternateKey],    [$Table].[ProductSubcategoryKey] as [ProductSubcategoryKey],    [$Table].[WeightUnitMeasureCode] as [WeightUnitMeasureCode],    [$Table].[SizeUnitMeasureCode] as [SizeUnitMeasureCode],    [$Table].[EnglishProductName] as [EnglishProductName],    [$Table].[SpanishProductName] as [SpanishProductName],    [$Table].[FrenchProductName] as [FrenchProductName],    [$Table].[StandardCost] as [StandardCost],    [$Table].[FinishedGoodsFlag] as [FinishedGoodsFlag],    [$Table].[Color] as [Color],    [$Table].[SafetyStockLevel] as [SafetyStockLevel],    [$Table].[ReorderPoint] as [ReorderPoint],    [$Table].[ListPrice] as [ListPrice],    [$Table].[Size] as [Size],    [$Table].[SizeRange] as [SizeRange],    [$Table].[Weight] as [Weight],    [$Table].[DaysToManufacture] as [DaysToManufacture],    [$Table].[ProductLine] as [ProductLine],    [$Table].[DealerPrice] as [DealerPrice],    [$Table].[Class] as [Class],    [$Table].[Style] as [Style],    [$Table].[ModelName] as [ModelName],    [$Table].[LargePhoto] as [LargePhoto],    [$Table].[EnglishDescription] as [EnglishDescription],    [$Table].[FrenchDescription] as [FrenchDescription],    [$Table].[ChineseDescription] as [ChineseDescription],    [$Table].[ArabicDescription] as [ArabicDescription],    [$Table].[HebrewDescription] as [HebrewDescription],    [$Table].[ThaiDescription] as [ThaiDescription],    [$Table].[GermanDescription] as [GermanDescription],    [$Table].[JapaneseDescription] as [JapaneseDescription],    [$Table].[TurkishDescription] as [TurkishDescription],    [$Table].[StartDate] as [StartDate],    [$Table].[EndDate] as [EndDate],    [$Table].[Status] as [Status]from [dbo].[DimProduct] as [$Table]) AS [t3] on ([t2].[ProductKey] = [t3].[ProductKey]))GROUP BY [t3].[Color]',\n",
       " 'SELECT TOP (1000001) [t3].[Color],SUM([t2].[Freight]) AS [a0]FROM ((select [$Table].[ProductKey] as [ProductKey],    [$Table].[OrderDateKey] as [OrderDateKey],    [$Table].[DueDateKey] as [DueDateKey],    [$Table].[ShipDateKey] as [ShipDateKey],    [$Table].[ResellerKey] as [ResellerKey],    [$Table].[EmployeeKey] as [EmployeeKey],    [$Table].[PromotionKey] as [PromotionKey],    [$Table].[CurrencyKey] as [CurrencyKey],    [$Table].[SalesTerritoryKey] as [SalesTerritoryKey],    [$Table].[SalesOrderNumber] as [SalesOrderNumber],    [$Table].[SalesOrderLineNumber] as [SalesOrderLineNumber],    [$Table].[RevisionNumber] as [RevisionNumber],    [$Table].[OrderQuantity] as [OrderQuantity],    [$Table].[UnitPrice] as [UnitPrice],    [$Table].[ExtendedAmount] as [ExtendedAmount],    [$Table].[UnitPriceDiscountPct] as [UnitPriceDiscountPct],    [$Table].[DiscountAmount] as [DiscountAmount],    [$Table].[ProductStandardCost] as [ProductStandardCost],    [$Table].[TotalProductCost] as [TotalProductCost],    [$Table].[SalesAmount] as [SalesAmount],    [$Table].[TaxAmt] as [TaxAmt],    [$Table].[Freight] as [Freight],    [$Table].[CarrierTrackingNumber] as [CarrierTrackingNumber],    [$Table].[CustomerPONumber] as [CustomerPONumber],    [$Table].[OrderDate] as [OrderDate],    [$Table].[DueDate] as [DueDate],    [$Table].[ShipDate] as [ShipDate]from [dbo].[FactResellerSales] as [$Table]) AS [t2] left outer join (select [$Table].[ProductKey] as [ProductKey],    [$Table].[ProductAlternateKey] as [ProductAlternateKey],    [$Table].[ProductSubcategoryKey] as [ProductSubcategoryKey],    [$Table].[WeightUnitMeasureCode] as [WeightUnitMeasureCode],    [$Table].[SizeUnitMeasureCode] as [SizeUnitMeasureCode],    [$Table].[EnglishProductName] as [EnglishProductName],    [$Table].[SpanishProductName] as [SpanishProductName],    [$Table].[FrenchProductName] as [FrenchProductName],    [$Table].[StandardCost] as [StandardCost],    [$Table].[FinishedGoodsFlag] as [FinishedGoodsFlag],    [$Table].[Color] as [Color],    [$Table].[SafetyStockLevel] as [SafetyStockLevel],    [$Table].[ReorderPoint] as [ReorderPoint],    [$Table].[ListPrice] as [ListPrice],    [$Table].[Size] as [Size],    [$Table].[SizeRange] as [SizeRange],    [$Table].[Weight] as [Weight],    [$Table].[DaysToManufacture] as [DaysToManufacture],    [$Table].[ProductLine] as [ProductLine],    [$Table].[DealerPrice] as [DealerPrice],    [$Table].[Class] as [Class],    [$Table].[Style] as [Style],    [$Table].[ModelName] as [ModelName],    [$Table].[LargePhoto] as [LargePhoto],    [$Table].[EnglishDescription] as [EnglishDescription],    [$Table].[FrenchDescription] as [FrenchDescription],    [$Table].[ChineseDescription] as [ChineseDescription],    [$Table].[ArabicDescription] as [ArabicDescription],    [$Table].[HebrewDescription] as [HebrewDescription],    [$Table].[ThaiDescription] as [ThaiDescription],    [$Table].[GermanDescription] as [GermanDescription],    [$Table].[JapaneseDescription] as [JapaneseDescription],    [$Table].[TurkishDescription] as [TurkishDescription],    [$Table].[StartDate] as [StartDate],    [$Table].[EndDate] as [EndDate],    [$Table].[Status] as [Status]from [dbo].[DimProduct] as [$Table]) AS [t3] on ([t2].[ProductKey] = [t3].[ProductKey]))GROUP BY [t3].[Color]',\n",
       " 'SELECT TOP (1000001) [t3].[Color],[t3].[Class],SUM([t2].[Freight]) AS [a0]FROM ((select [$Table].[ProductKey] as [ProductKey],    [$Table].[OrderDateKey] as [OrderDateKey],    [$Table].[DueDateKey] as [DueDateKey],    [$Table].[ShipDateKey] as [ShipDateKey],    [$Table].[ResellerKey] as [ResellerKey],    [$Table].[EmployeeKey] as [EmployeeKey],    [$Table].[PromotionKey] as [PromotionKey],    [$Table].[CurrencyKey] as [CurrencyKey],    [$Table].[SalesTerritoryKey] as [SalesTerritoryKey],    [$Table].[SalesOrderNumber] as [SalesOrderNumber],    [$Table].[SalesOrderLineNumber] as [SalesOrderLineNumber],    [$Table].[RevisionNumber] as [RevisionNumber],    [$Table].[OrderQuantity] as [OrderQuantity],    [$Table].[UnitPrice] as [UnitPrice],    [$Table].[ExtendedAmount] as [ExtendedAmount],    [$Table].[UnitPriceDiscountPct] as [UnitPriceDiscountPct],    [$Table].[DiscountAmount] as [DiscountAmount],    [$Table].[ProductStandardCost] as [ProductStandardCost],    [$Table].[TotalProductCost] as [TotalProductCost],    [$Table].[SalesAmount] as [SalesAmount],    [$Table].[TaxAmt] as [TaxAmt],    [$Table].[Freight] as [Freight],    [$Table].[CarrierTrackingNumber] as [CarrierTrackingNumber],    [$Table].[CustomerPONumber] as [CustomerPONumber],    [$Table].[OrderDate] as [OrderDate],    [$Table].[DueDate] as [DueDate],    [$Table].[ShipDate] as [ShipDate]from [dbo].[FactResellerSales] as [$Table]) AS [t2] left outer join (select [$Table].[ProductKey] as [ProductKey],    [$Table].[ProductAlternateKey] as [ProductAlternateKey],    [$Table].[ProductSubcategoryKey] as [ProductSubcategoryKey],    [$Table].[WeightUnitMeasureCode] as [WeightUnitMeasureCode],    [$Table].[SizeUnitMeasureCode] as [SizeUnitMeasureCode],    [$Table].[EnglishProductName] as [EnglishProductName],    [$Table].[SpanishProductName] as [SpanishProductName],    [$Table].[FrenchProductName] as [FrenchProductName],    [$Table].[StandardCost] as [StandardCost],    [$Table].[FinishedGoodsFlag] as [FinishedGoodsFlag],    [$Table].[Color] as [Color],    [$Table].[SafetyStockLevel] as [SafetyStockLevel],    [$Table].[ReorderPoint] as [ReorderPoint],    [$Table].[ListPrice] as [ListPrice],    [$Table].[Size] as [Size],    [$Table].[SizeRange] as [SizeRange],    [$Table].[Weight] as [Weight],    [$Table].[DaysToManufacture] as [DaysToManufacture],    [$Table].[ProductLine] as [ProductLine],    [$Table].[DealerPrice] as [DealerPrice],    [$Table].[Class] as [Class],    [$Table].[Style] as [Style],    [$Table].[ModelName] as [ModelName],    [$Table].[LargePhoto] as [LargePhoto],    [$Table].[EnglishDescription] as [EnglishDescription],    [$Table].[FrenchDescription] as [FrenchDescription],    [$Table].[ChineseDescription] as [ChineseDescription],    [$Table].[ArabicDescription] as [ArabicDescription],    [$Table].[HebrewDescription] as [HebrewDescription],    [$Table].[ThaiDescription] as [ThaiDescription],    [$Table].[GermanDescription] as [GermanDescription],    [$Table].[JapaneseDescription] as [JapaneseDescription],    [$Table].[TurkishDescription] as [TurkishDescription],    [$Table].[StartDate] as [StartDate],    [$Table].[EndDate] as [EndDate],    [$Table].[Status] as [Status]from [dbo].[DimProduct] as [$Table]) AS [t3] on ([t2].[ProductKey] = [t3].[ProductKey]))GROUP BY [t3].[Color],[t3].[Class]',\n",
       " 'SELECT TOP (1000001) [t3].[Class],SUM([t2].[Freight]) AS [a0]FROM ((select [$Table].[ProductKey] as [ProductKey],    [$Table].[OrderDateKey] as [OrderDateKey],    [$Table].[DueDateKey] as [DueDateKey],    [$Table].[ShipDateKey] as [ShipDateKey],    [$Table].[ResellerKey] as [ResellerKey],    [$Table].[EmployeeKey] as [EmployeeKey],    [$Table].[PromotionKey] as [PromotionKey],    [$Table].[CurrencyKey] as [CurrencyKey],    [$Table].[SalesTerritoryKey] as [SalesTerritoryKey],    [$Table].[SalesOrderNumber] as [SalesOrderNumber],    [$Table].[SalesOrderLineNumber] as [SalesOrderLineNumber],    [$Table].[RevisionNumber] as [RevisionNumber],    [$Table].[OrderQuantity] as [OrderQuantity],    [$Table].[UnitPrice] as [UnitPrice],    [$Table].[ExtendedAmount] as [ExtendedAmount],    [$Table].[UnitPriceDiscountPct] as [UnitPriceDiscountPct],    [$Table].[DiscountAmount] as [DiscountAmount],    [$Table].[ProductStandardCost] as [ProductStandardCost],    [$Table].[TotalProductCost] as [TotalProductCost],    [$Table].[SalesAmount] as [SalesAmount],    [$Table].[TaxAmt] as [TaxAmt],    [$Table].[Freight] as [Freight],    [$Table].[CarrierTrackingNumber] as [CarrierTrackingNumber],    [$Table].[CustomerPONumber] as [CustomerPONumber],    [$Table].[OrderDate] as [OrderDate],    [$Table].[DueDate] as [DueDate],    [$Table].[ShipDate] as [ShipDate]from [dbo].[FactResellerSales] as [$Table]) AS [t2] left outer join (select [$Table].[ProductKey] as [ProductKey],    [$Table].[ProductAlternateKey] as [ProductAlternateKey],    [$Table].[ProductSubcategoryKey] as [ProductSubcategoryKey],    [$Table].[WeightUnitMeasureCode] as [WeightUnitMeasureCode],    [$Table].[SizeUnitMeasureCode] as [SizeUnitMeasureCode],    [$Table].[EnglishProductName] as [EnglishProductName],    [$Table].[SpanishProductName] as [SpanishProductName],    [$Table].[FrenchProductName] as [FrenchProductName],    [$Table].[StandardCost] as [StandardCost],    [$Table].[FinishedGoodsFlag] as [FinishedGoodsFlag],    [$Table].[Color] as [Color],    [$Table].[SafetyStockLevel] as [SafetyStockLevel],    [$Table].[ReorderPoint] as [ReorderPoint],    [$Table].[ListPrice] as [ListPrice],    [$Table].[Size] as [Size],    [$Table].[SizeRange] as [SizeRange],    [$Table].[Weight] as [Weight],    [$Table].[DaysToManufacture] as [DaysToManufacture],    [$Table].[ProductLine] as [ProductLine],    [$Table].[DealerPrice] as [DealerPrice],    [$Table].[Class] as [Class],    [$Table].[Style] as [Style],    [$Table].[ModelName] as [ModelName],    [$Table].[LargePhoto] as [LargePhoto],    [$Table].[EnglishDescription] as [EnglishDescription],    [$Table].[FrenchDescription] as [FrenchDescription],    [$Table].[ChineseDescription] as [ChineseDescription],    [$Table].[ArabicDescription] as [ArabicDescription],    [$Table].[HebrewDescription] as [HebrewDescription],    [$Table].[ThaiDescription] as [ThaiDescription],    [$Table].[GermanDescription] as [GermanDescription],    [$Table].[JapaneseDescription] as [JapaneseDescription],    [$Table].[TurkishDescription] as [TurkishDescription],    [$Table].[StartDate] as [StartDate],    [$Table].[EndDate] as [EndDate],    [$Table].[Status] as [Status]from [dbo].[DimProduct] as [$Table]) AS [t3] on ([t2].[ProductKey] = [t3].[ProductKey]))GROUP BY [t3].[Class]',\n",
       " 'SELECT TOP (1000001) [t3].[Class],SUM([t2].[Freight]) AS [a0]FROM ((select [$Table].[ProductKey] as [ProductKey],    [$Table].[OrderDateKey] as [OrderDateKey],    [$Table].[DueDateKey] as [DueDateKey],    [$Table].[ShipDateKey] as [ShipDateKey],    [$Table].[ResellerKey] as [ResellerKey],    [$Table].[EmployeeKey] as [EmployeeKey],    [$Table].[PromotionKey] as [PromotionKey],    [$Table].[CurrencyKey] as [CurrencyKey],    [$Table].[SalesTerritoryKey] as [SalesTerritoryKey],    [$Table].[SalesOrderNumber] as [SalesOrderNumber],    [$Table].[SalesOrderLineNumber] as [SalesOrderLineNumber],    [$Table].[RevisionNumber] as [RevisionNumber],    [$Table].[OrderQuantity] as [OrderQuantity],    [$Table].[UnitPrice] as [UnitPrice],    [$Table].[ExtendedAmount] as [ExtendedAmount],    [$Table].[UnitPriceDiscountPct] as [UnitPriceDiscountPct],    [$Table].[DiscountAmount] as [DiscountAmount],    [$Table].[ProductStandardCost] as [ProductStandardCost],    [$Table].[TotalProductCost] as [TotalProductCost],    [$Table].[SalesAmount] as [SalesAmount],    [$Table].[TaxAmt] as [TaxAmt],    [$Table].[Freight] as [Freight],    [$Table].[CarrierTrackingNumber] as [CarrierTrackingNumber],    [$Table].[CustomerPONumber] as [CustomerPONumber],    [$Table].[OrderDate] as [OrderDate],    [$Table].[DueDate] as [DueDate],    [$Table].[ShipDate] as [ShipDate]from [dbo].[FactResellerSales] as [$Table]) AS [t2] left outer join (select [$Table].[ProductKey] as [ProductKey],    [$Table].[ProductAlternateKey] as [ProductAlternateKey],    [$Table].[ProductSubcategoryKey] as [ProductSubcategoryKey],    [$Table].[WeightUnitMeasureCode] as [WeightUnitMeasureCode],    [$Table].[SizeUnitMeasureCode] as [SizeUnitMeasureCode],    [$Table].[EnglishProductName] as [EnglishProductName],    [$Table].[SpanishProductName] as [SpanishProductName],    [$Table].[FrenchProductName] as [FrenchProductName],    [$Table].[StandardCost] as [StandardCost],    [$Table].[FinishedGoodsFlag] as [FinishedGoodsFlag],    [$Table].[Color] as [Color],    [$Table].[SafetyStockLevel] as [SafetyStockLevel],    [$Table].[ReorderPoint] as [ReorderPoint],    [$Table].[ListPrice] as [ListPrice],    [$Table].[Size] as [Size],    [$Table].[SizeRange] as [SizeRange],    [$Table].[Weight] as [Weight],    [$Table].[DaysToManufacture] as [DaysToManufacture],    [$Table].[ProductLine] as [ProductLine],    [$Table].[DealerPrice] as [DealerPrice],    [$Table].[Class] as [Class],    [$Table].[Style] as [Style],    [$Table].[ModelName] as [ModelName],    [$Table].[LargePhoto] as [LargePhoto],    [$Table].[EnglishDescription] as [EnglishDescription],    [$Table].[FrenchDescription] as [FrenchDescription],    [$Table].[ChineseDescription] as [ChineseDescription],    [$Table].[ArabicDescription] as [ArabicDescription],    [$Table].[HebrewDescription] as [HebrewDescription],    [$Table].[ThaiDescription] as [ThaiDescription],    [$Table].[GermanDescription] as [GermanDescription],    [$Table].[JapaneseDescription] as [JapaneseDescription],    [$Table].[TurkishDescription] as [TurkishDescription],    [$Table].[StartDate] as [StartDate],    [$Table].[EndDate] as [EndDate],    [$Table].[Status] as [Status]from [dbo].[DimProduct] as [$Table]) AS [t3] on ([t2].[ProductKey] = [t3].[ProductKey]))GROUP BY [t3].[Class]',\n",
       " 'SELECT TOP (1000001) [t3].[Color],[t6].[FullDateAlternateKey],SUM([t0].[SalesAmount]) AS [a0]FROM (((select [$Table].[ProductKey] as [ProductKey],    [$Table].[OrderDateKey] as [OrderDateKey],    [$Table].[DueDateKey] as [DueDateKey],    [$Table].[ShipDateKey] as [ShipDateKey],    [$Table].[CustomerKey] as [CustomerKey],    [$Table].[PromotionKey] as [PromotionKey],    [$Table].[CurrencyKey] as [CurrencyKey],    [$Table].[SalesTerritoryKey] as [SalesTerritoryKey],    [$Table].[SalesOrderNumber] as [SalesOrderNumber],    [$Table].[SalesOrderLineNumber] as [SalesOrderLineNumber],    [$Table].[RevisionNumber] as [RevisionNumber],    [$Table].[OrderQuantity] as [OrderQuantity],    [$Table].[UnitPrice] as [UnitPrice],    [$Table].[ExtendedAmount] as [ExtendedAmount],    [$Table].[UnitPriceDiscountPct] as [UnitPriceDiscountPct],    [$Table].[DiscountAmount] as [DiscountAmount],    [$Table].[ProductStandardCost] as [ProductStandardCost],    [$Table].[TotalProductCost] as [TotalProductCost],    [$Table].[SalesAmount] as [SalesAmount],    [$Table].[TaxAmt] as [TaxAmt],    [$Table].[Freight] as [Freight],    [$Table].[CarrierTrackingNumber] as [CarrierTrackingNumber],    [$Table].[CustomerPONumber] as [CustomerPONumber],    [$Table].[OrderDate] as [OrderDate],    [$Table].[DueDate] as [DueDate],    [$Table].[ShipDate] as [ShipDate]from [dbo].[FactInternetSales] as [$Table]) AS [t0] left outer join (select [$Table].[ProductKey] as [ProductKey],    [$Table].[ProductAlternateKey] as [ProductAlternateKey],    [$Table].[ProductSubcategoryKey] as [ProductSubcategoryKey],    [$Table].[WeightUnitMeasureCode] as [WeightUnitMeasureCode],    [$Table].[SizeUnitMeasureCode] as [SizeUnitMeasureCode],    [$Table].[EnglishProductName] as [EnglishProductName],    [$Table].[SpanishProductName] as [SpanishProductName],    [$Table].[FrenchProductName] as [FrenchProductName],    [$Table].[StandardCost] as [StandardCost],    [$Table].[FinishedGoodsFlag] as [FinishedGoodsFlag],    [$Table].[Color] as [Color],    [$Table].[SafetyStockLevel] as [SafetyStockLevel],    [$Table].[ReorderPoint] as [ReorderPoint],    [$Table].[ListPrice] as [ListPrice],    [$Table].[Size] as [Size],    [$Table].[SizeRange] as [SizeRange],    [$Table].[Weight] as [Weight],    [$Table].[DaysToManufacture] as [DaysToManufacture],    [$Table].[ProductLine] as [ProductLine],    [$Table].[DealerPrice] as [DealerPrice],    [$Table].[Class] as [Class],    [$Table].[Style] as [Style],    [$Table].[ModelName] as [ModelName],    [$Table].[LargePhoto] as [LargePhoto],    [$Table].[EnglishDescription] as [EnglishDescription],    [$Table].[FrenchDescription] as [FrenchDescription],    [$Table].[ChineseDescription] as [ChineseDescription],    [$Table].[ArabicDescription] as [ArabicDescription],    [$Table].[HebrewDescription] as [HebrewDescription],    [$Table].[ThaiDescription] as [ThaiDescription],    [$Table].[GermanDescription] as [GermanDescription],    [$Table].[JapaneseDescription] as [JapaneseDescription],    [$Table].[TurkishDescription] as [TurkishDescription],    [$Table].[StartDate] as [StartDate],    [$Table].[EndDate] as [EndDate],    [$Table].[Status] as [Status]from [dbo].[DimProduct] as [$Table]) AS [t3] on ([t0].[ProductKey] = [t3].[ProductKey])) left outer join (select [$Table].[DateKey] as [DateKey],    [$Table].[FullDateAlternateKey] as [FullDateAlternateKey],    [$Table].[DayNumberOfWeek] as [DayNumberOfWeek],    [$Table].[EnglishDayNameOfWeek] as [EnglishDayNameOfWeek],    [$Table].[SpanishDayNameOfWeek] as [SpanishDayNameOfWeek],    [$Table].[FrenchDayNameOfWeek] as [FrenchDayNameOfWeek],    [$Table].[DayNumberOfMonth] as [DayNumberOfMonth],    [$Table].[DayNumberOfYear] as [DayNumberOfYear],    [$Table].[WeekNumberOfYear] as [WeekNumberOfYear],    [$Table].[EnglishMonthName] as [EnglishMonthName],    [$Table].[SpanishMonthName] as [SpanishMonthName],    [$Table].[FrenchMonthName] as [FrenchMonthName],    [$Table].[MonthNumberOfYear] as [MonthNumberOfYear],    [$Table].[CalendarQuarter] as [CalendarQuarter],    [$Table].[CalendarYear] as [CalendarYear],    [$Table].[CalendarSemester] as [CalendarSemester],    [$Table].[FiscalQuarter] as [FiscalQuarter],    [$Table].[FiscalYear] as [FiscalYear],    [$Table].[FiscalSemester] as [FiscalSemester]from [dbo].[DimDate] as [$Table]) AS [t6] on ([t0].[DueDateKey] = [t6].[DateKey]))GROUP BY [t3].[Color],[t6].[FullDateAlternateKey]']"
      ]
     },
     "execution_count": 18,
     "metadata": {},
     "output_type": "execute_result"
    }
   ],
   "source": [
    "list(df.loc[df['EstimatedTotalSubtreeCost'] > 3].query_sql_text)"
   ]
  },
  {
   "cell_type": "code",
   "execution_count": 13,
   "metadata": {},
   "outputs": [
    {
     "data": {
      "text/plain": [
       "[670883.0, 670883.0, 670883.0]"
      ]
     },
     "execution_count": 13,
     "metadata": {},
     "output_type": "execute_result"
    }
   ],
   "source": [
    "list(df.loc[df['EstimatedTotalSubtreeCost'] == 3097.430000].StatementEstRows)"
   ]
  },
  {
   "cell_type": "code",
   "execution_count": null,
   "metadata": {
    "collapsed": true
   },
   "outputs": [],
   "source": []
  }
 ],
 "metadata": {
  "anaconda-cloud": {},
  "kernelspec": {
   "display_name": "Python 3",
   "language": "python",
   "name": "python3"
  },
  "language_info": {
   "codemirror_mode": {
    "name": "ipython",
    "version": 3
   },
   "file_extension": ".py",
   "mimetype": "text/x-python",
   "name": "python",
   "nbconvert_exporter": "python",
   "pygments_lexer": "ipython3",
   "version": "3.7.0"
  }
 },
 "nbformat": 4,
 "nbformat_minor": 2
}
